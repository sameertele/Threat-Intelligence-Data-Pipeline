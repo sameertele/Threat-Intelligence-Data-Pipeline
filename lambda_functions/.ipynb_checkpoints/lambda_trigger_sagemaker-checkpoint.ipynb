{
 "cells": [
  {
   "cell_type": "code",
   "execution_count": null,
   "id": "5830e868",
   "metadata": {},
   "outputs": [],
   "source": [
    "import boto3\n",
    "\n",
    "def lambda_handler(event, context):\n",
    "    client = boto3.client('sagemaker')\n",
    "    \n",
    "    response = client.create_model(\n",
    "        ModelName='enron-spam-detection-model',\n",
    "        PrimaryContainer={\n",
    "            'Image': '123456789012.dkr.ecr.us-west-2.amazonaws.com/linear-learner:latest',\n",
    "            'ModelDataUrl': 's3://enron-spam-detection-data/models/model.tar.gz'\n",
    "        },\n",
    "        ExecutionRoleArn='arn:aws:iam::123456789012:role/service-role/AmazonSageMaker-ExecutionRole-20200101T000001'\n",
    "    )\n",
    "    \n",
    "    client.create_endpoint_config(\n",
    "        EndpointConfigName='EnronSpamDetectionEndpointConfig',\n",
    "        ProductionVariants=[\n",
    "            {\n",
    "                'VariantName': 'AllTraffic',\n",
    "                'ModelName': 'enron-spam-detection-model',\n",
    "                'InstanceType': 'ml.m4.xlarge',\n",
    "                'InitialInstanceCount': 1\n",
    "            }\n",
    "        ]\n",
    "    )\n",
    "    \n",
    "    client.create_endpoint(\n",
    "        EndpointName='EnronSpamDetectionEndpoint',\n",
    "        EndpointConfigName='EnronSpamDetectionEndpointConfig'\n",
    "    )\n",
    "    \n",
    "    return {\n",
    "        'statusCode': 200,\n",
    "        'body': 'Model deployed successfully'\n",
    "    }"
   ]
  }
 ],
 "metadata": {
  "kernelspec": {
   "display_name": "Python 3 (ipykernel)",
   "language": "python",
   "name": "python3"
  },
  "language_info": {
   "codemirror_mode": {
    "name": "ipython",
    "version": 3
   },
   "file_extension": ".py",
   "mimetype": "text/x-python",
   "name": "python",
   "nbconvert_exporter": "python",
   "pygments_lexer": "ipython3",
   "version": "3.11.1"
  }
 },
 "nbformat": 4,
 "nbformat_minor": 5
}
