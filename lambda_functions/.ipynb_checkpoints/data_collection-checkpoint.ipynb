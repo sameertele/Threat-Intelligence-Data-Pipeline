{
 "cells": [
  {
   "cell_type": "code",
   "execution_count": null,
   "id": "0d8e84af",
   "metadata": {},
   "outputs": [],
   "source": [
    "import boto3\n",
    "import requests\n",
    "import zipfile\n",
    "import os\n",
    "\n",
    "def lambda_handler(event, context):\n",
    "    s3 = boto3.client('s3')\n",
    "    url = \"https://www.cs.cmu.edu/~enron/enron_mail_20150507.tar.gz\"\n",
    "    response = requests.get(url)\n",
    "    \n",
    "    local_path = '/tmp/enron_mail_20150507.tar.gz'\n",
    "    with open(local_path, 'wb') as f:\n",
    "        f.write(response.content)\n",
    "    \n",
    "    s3.upload_file(local_path, 'enron-spam-detection-data', 'raw/enron_mail_20150507.tar.gz')\n",
    "    \n",
    "    return {\n",
    "        'statusCode': 200,\n",
    "        'body': 'Enron Email data collected and uploaded to S3.'\n",
    "    }"
   ]
  }
 ],
 "metadata": {
  "kernelspec": {
   "display_name": "Python 3 (ipykernel)",
   "language": "python",
   "name": "python3"
  },
  "language_info": {
   "codemirror_mode": {
    "name": "ipython",
    "version": 3
   },
   "file_extension": ".py",
   "mimetype": "text/x-python",
   "name": "python",
   "nbconvert_exporter": "python",
   "pygments_lexer": "ipython3",
   "version": "3.11.1"
  }
 },
 "nbformat": 4,
 "nbformat_minor": 5
}
