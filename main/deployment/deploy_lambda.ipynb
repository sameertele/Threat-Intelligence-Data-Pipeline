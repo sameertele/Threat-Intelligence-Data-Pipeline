{
 "cells": [
  {
   "cell_type": "code",
   "execution_count": null,
   "id": "72acb78b",
   "metadata": {},
   "outputs": [],
   "source": [
    "import boto3\n",
    "\n",
    "lambda_client = boto3.client('lambda')\n",
    "\n",
    "functions = ['data_collection.py', 'lambda_trigger_sagemaker.py']\n",
    "\n",
    "for function in functions:\n",
    "    with open(f'lambda_functions/{function}', 'rb') as f:\n",
    "        lambda_client.create_function(\n",
    "            FunctionName=function.split('.')[0],\n",
    "            Runtime='python3.8',\n",
    "            Role='arn:aws:iam::your-account-id:role/lambda-ex',\n",
    "            Handler=f'{function.split(\".\")[0]}.lambda_handler',\n",
    "            Code={'ZipFile': f.read()},\n",
    "            Timeout=300  \n",
    "        )"
   ]
  }
 ],
 "metadata": {
  "kernelspec": {
   "display_name": "Python 3 (ipykernel)",
   "language": "python",
   "name": "python3"
  },
  "language_info": {
   "codemirror_mode": {
    "name": "ipython",
    "version": 3
   },
   "file_extension": ".py",
   "mimetype": "text/x-python",
   "name": "python",
   "nbconvert_exporter": "python",
   "pygments_lexer": "ipython3",
   "version": "3.11.1"
  }
 },
 "nbformat": 4,
 "nbformat_minor": 5
}
