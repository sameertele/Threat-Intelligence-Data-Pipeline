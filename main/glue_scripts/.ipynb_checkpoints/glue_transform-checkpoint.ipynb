{
 "cells": [
  {
   "cell_type": "code",
   "execution_count": null,
   "id": "2564cf55",
   "metadata": {},
   "outputs": [],
   "source": [
    "import sys\n",
    "from awsglue.transforms import *\n",
    "from awsglue.utils import getResolvedOptions\n",
    "from pyspark.context import SparkContext\n",
    "from awsglue.context import GlueContext\n",
    "from awsglue.job import Job\n",
    "import tarfile\n",
    "import boto3\n",
    "import os\n",
    "import email\n",
    "\n",
    "args = getResolvedOptions(sys.argv, ['JOB_NAME'])\n",
    "sc = SparkContext()\n",
    "glueContext = GlueContext(sc)\n",
    "spark = glueContext.spark_session\n",
    "job = Job(glueContext)\n",
    "job.init(args['JOB_NAME'], args)\n",
    "\n",
    "# Extracting file in S3\n",
    "s3 = boto3.client('s3')\n",
    "bucket = 'enron-spam-detection-data'\n",
    "key = 'raw/enron_mail_20150507.tar.gz'\n",
    "local_tar = '/tmp/enron_mail_20150507.tar.gz'\n",
    "local_extract_dir = '/tmp/enron_mail/'\n",
    "\n",
    "s3.download_file(bucket, key, local_tar)\n",
    "\n",
    "with tarfile.open(local_tar, 'r:gz') as tar:\n",
    "    tar.extractall(path=local_extract_dir)\n",
    "\n",
    "# Processing extracted files\n",
    "data = []\n",
    "for root, dirs, files in os.walk(local_extract_dir):\n",
    "    for filename in files:\n",
    "        if filename.endswith('.txt'):\n",
    "            with open(os.path.join(root, filename), 'r', encoding='latin1') as f:\n",
    "                msg = email.message_from_file(f)\n",
    "                subject = msg['Subject']\n",
    "                body = msg.get_payload(decode=True).decode('latin1', errors='ignore')\n",
    "                \n",
    "                # label\n",
    "                label = 1 if 'spam' in root.lower() else 0\n",
    "                \n",
    "                data.append({\n",
    "                    'subject': subject,\n",
    "                    'message': body,\n",
    "                    'label': label\n",
    "                })\n",
    "\n",
    "df = spark.createDataFrame(data)\n",
    "\n",
    "df.write.json('s3://enron-spam-detection-data/processed/')\n",
    "\n",
    "job.commit()"
   ]
  }
 ],
 "metadata": {
  "kernelspec": {
   "display_name": "Python 3 (ipykernel)",
   "language": "python",
   "name": "python3"
  },
  "language_info": {
   "codemirror_mode": {
    "name": "ipython",
    "version": 3
   },
   "file_extension": ".py",
   "mimetype": "text/x-python",
   "name": "python",
   "nbconvert_exporter": "python",
   "pygments_lexer": "ipython3",
   "version": "3.11.1"
  }
 },
 "nbformat": 4,
 "nbformat_minor": 5
}
