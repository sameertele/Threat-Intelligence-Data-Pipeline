{
 "cells": [
  {
   "cell_type": "code",
   "execution_count": null,
   "id": "a5897d06",
   "metadata": {},
   "outputs": [],
   "source": [
    "import boto3\n",
    "import requests\n",
    "\n",
    "S3_BUCKET = 'phish-intelligence-data-pipeline'\n",
    "DATA_FILE = 'phishtank.csv'\n",
    "\n",
    "# PhishTank API URL\n",
    "API_URL = 'http://data.phishtank.com/data/online-valid.csv'\n",
    "\n",
    "def download_data(url, local_file):\n",
    "    response = requests.get(url)\n",
    "    with open(local_file, 'wb') as f:\n",
    "        f.write(response.content)\n",
    "    print(f\"Downloaded data to {local_file}\")\n",
    "\n",
    "def upload_to_s3(local_file, s3_file):\n",
    "    s3 = boto3.client('s3')\n",
    "    s3.upload_file(local_file, S3_BUCKET, s3_file)\n",
    "    print(f\"Uploaded {local_file} to s3://{S3_BUCKET}/{s3_file}\")\n",
    "\n",
    "if __name__ == \"__main__\":\n",
    "    download_data(API_URL, DATA_FILE)\n",
    "    upload_to_s3(DATA_FILE, DATA_FILE)"
   ]
  }
 ],
 "metadata": {
  "kernelspec": {
   "display_name": "Python 3 (ipykernel)",
   "language": "python",
   "name": "python3"
  },
  "language_info": {
   "codemirror_mode": {
    "name": "ipython",
    "version": 3
   },
   "file_extension": ".py",
   "mimetype": "text/x-python",
   "name": "python",
   "nbconvert_exporter": "python",
   "pygments_lexer": "ipython3",
   "version": "3.11.1"
  }
 },
 "nbformat": 4,
 "nbformat_minor": 5
}
