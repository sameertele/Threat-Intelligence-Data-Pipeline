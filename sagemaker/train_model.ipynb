{
 "cells": [
  {
   "cell_type": "code",
   "execution_count": null,
   "id": "95b5a4b8",
   "metadata": {},
   "outputs": [],
   "source": [
    "import boto3\n",
    "import pandas as pd\n",
    "from sagemaker import get_execution_role\n",
    "from sagemaker.amazon.amazon_estimator import get_image_uri\n",
    "from sagemaker.estimator import Estimator\n",
    "from sklearn.feature_extraction.text import CountVectorizer\n",
    "from sklearn.model_selection import train_test_split\n",
    "\n",
    "# Loading data from S3\n",
    "s3 = boto3.client('s3')\n",
    "bucket = 'enron-spam-detection-data'\n",
    "key = 'processed/enron_spam_data.json'\n",
    "\n",
    "obj = s3.get_object(Bucket=bucket, Key=key)\n",
    "data = pd.read_json(obj['Body'])\n",
    "\n",
    "# Feature extraction\n",
    "vectorizer = CountVectorizer(stop_words='english')\n",
    "X = vectorizer.fit_transform(data['message'])\n",
    "y = data['label']\n",
    "\n",
    "X_train, X_test, y_train, y_test = train_test_split(X, y, test_size=0.2, random_state=42)\n",
    "\n",
    "# Uploading data to S3 for SageMaker\n",
    "train_location = 's3://enron-spam-detection-data/models/train.csv'\n",
    "test_location = 's3://enron-spam-detection-data/models/test.csv'\n",
    "\n",
    "pd.DataFrame(X_train.toarray()).to_csv(train_location, index=False)\n",
    "pd.DataFrame(X_test.toarray()).to_csv(test_location, index=False)\n",
    "\n",
    "# SageMaker Estimator\n",
    "role = get_execution_role()\n",
    "container = get_image_uri(boto3.Session().region_name, 'linear-learner')\n",
    "\n",
    "estimator = Estimator(\n",
    "    container,\n",
    "    role,\n",
    "    instance_count=1,\n",
    "    instance_type='ml.m4.xlarge',\n",
    "    output_path='s3://enron-spam-detection-data/models/'\n",
    ")\n",
    "\n",
    "# Train the model\n",
    "estimator.fit({'train': train_location, 'test': test_location})"
   ]
  }
 ],
 "metadata": {
  "kernelspec": {
   "display_name": "Python 3 (ipykernel)",
   "language": "python",
   "name": "python3"
  },
  "language_info": {
   "codemirror_mode": {
    "name": "ipython",
    "version": 3
   },
   "file_extension": ".py",
   "mimetype": "text/x-python",
   "name": "python",
   "nbconvert_exporter": "python",
   "pygments_lexer": "ipython3",
   "version": "3.11.1"
  }
 },
 "nbformat": 4,
 "nbformat_minor": 5
}
